{
  "nbformat": 4,
  "nbformat_minor": 0,
  "metadata": {
    "colab": {
      "provenance": [],
      "gpuType": "T4"
    },
    "kernelspec": {
      "name": "python3",
      "display_name": "Python 3"
    },
    "language_info": {
      "name": "python"
    },
    "accelerator": "GPU"
  },
  "cells": [
    {
      "cell_type": "code",
      "execution_count": null,
      "metadata": {
        "id": "czLj09WnUfjd"
      },
      "outputs": [],
      "source": [
        "import os\n",
        "from google.colab import drive\n",
        "import tensorflow as tf\n",
        "from tensorflow.keras import layers, Sequential, callbacks, metrics\n",
        "from random import choices, uniform\n",
        "from matplotlib import pyplot as plt\n",
        "from tensorflow.keras.utils import save_img, image_dataset_from_directory\n",
        "from time import time\n",
        "import numpy as np"
      ]
    },
    {
      "cell_type": "code",
      "source": [
        "if \"drive\" not in os.listdir():\n",
        "  drive.mount(\"/content/drive\")\n",
        "  !unzip -q /content/drive/MyDrive/Dataset_DirtBuildup_BeltConveyor.zip"
      ],
      "metadata": {
        "id": "I3GM0JLSm_zd",
        "colab": {
          "base_uri": "https://localhost:8080/"
        },
        "outputId": "66cf5184-73f0-4adc-f094-a580008eb3a7"
      },
      "execution_count": null,
      "outputs": [
        {
          "output_type": "stream",
          "name": "stdout",
          "text": [
            "Mounted at /content/drive\n"
          ]
        }
      ]
    },
    {
      "cell_type": "code",
      "source": [
        "def process_image(img_file):\n",
        "  image = tf.io.read_file(img_file)\n",
        "  image = tf.io.decode_jpeg(image)\n",
        "  height, width, band = image.shape\n",
        "  fig, ax = plt.subplots(1, 5)\n",
        "  ax[2].set_title(img_file.split(\"/\")[-1])\n",
        "  for i in range(5):\n",
        "    k = uniform(0.65, 1)\n",
        "    new_height = int(k * height)\n",
        "    new_width = int(k * width)\n",
        "\n",
        "    _image = tf.image.random_crop(image,\n",
        "                                  size=[new_height, new_width, 3])\n",
        "    aspect_ratio = uniform(0.75, 1.33)\n",
        "    new_height = int(new_width * aspect_ratio)\n",
        "    _image = tf.image.resize(_image,\n",
        "                             size=(new_height, new_width))\n",
        "\n",
        "    if uniform(0, 1) >= 0.5:\n",
        "      _image = tf.image.flip_left_right(_image)\n",
        "      _image = tf.image.flip_up_down(_image)\n",
        "\n",
        "    _image = tf.image.resize(_image, size=(224, 224))\n",
        "\n",
        "    ax[i].imshow(_image/255)\n",
        "    ax[i].axis(\"off\")\n",
        "\n",
        "    filename, ext = tuple(img_file.split(\".\"))\n",
        "    save_img(f\"{filename}-{i}.{ext}\", _image)\n",
        "  plt.show()\n",
        "  os.remove(img_file)"
      ],
      "metadata": {
        "id": "t0I7KtdQ2_1M"
      },
      "execution_count": null,
      "outputs": []
    },
    {
      "cell_type": "code",
      "source": [
        "if \"01.JPG\" in os.listdir(\"/content/Clean\"):\n",
        "  image_type = (\"/content/Clean/\", \"/content/Dirt Buildup/\")\n",
        "  for img_type in image_type:\n",
        "    print(img_type.split(\"/\")[-1])\n",
        "    start = time()\n",
        "    foldername = img_type\n",
        "    image_files = os.listdir(foldername)\n",
        "    l = len(image_files)\n",
        "    for i, img_file in enumerate(image_files):\n",
        "      process_image(foldername + img_file)\n",
        "      if (i+1) % 10 == 0:\n",
        "        print(f\"\"\"\n",
        "        {i+1}/{l}:\n",
        "        elapsed: {time() - start: .2f}\n",
        "        eta: {(time() - start) * (l-i)/i: .2f}\n",
        "         \"\"\")"
      ],
      "metadata": {
        "colab": {
          "base_uri": "https://localhost:8080/",
          "height": 1000
        },
        "id": "c2u7JFbwLsQa",
        "outputId": "c58c5101-efea-44c2-d9a3-365be10efbbd"
      },
      "execution_count": null,
      "outputs": []
    },
    {
      "cell_type": "code",
      "source": [
        "if \"train\" not in os.listdir():\n",
        "  clean = os.listdir(\"Clean\")\n",
        "  dirty = os.listdir(\"Dirt Buildup\")\n",
        "\n",
        "  os.mkdir(\"/content/train\")\n",
        "  os.mkdir(\"/content/test\")\n",
        "\n",
        "  for t in (\"/content/train\", \"/content/test\"):\n",
        "    os.mkdir(t + \"/Clean\")\n",
        "    os.mkdir(t + \"/Dirt Buildup\")\n",
        "\n",
        "  clean = os.listdir(\"/content/Clean\")\n",
        "  dirty = os.listdir(\"/content/Dirt Buildup\")\n",
        "\n",
        "  test_clean = int(len(clean) * 0.15)\n",
        "  test_dirty = int(len(dirty) * 0.15)\n",
        "\n",
        "  for _ in range(test_clean):\n",
        "    filename = choices(clean, k=1)[0]\n",
        "    os.rename(\"/content/Clean/\" + filename, \"/content/test/Clean/\" + filename)\n",
        "    clean.remove(filename)\n",
        "\n",
        "  for _ in range(test_dirty):\n",
        "    filename = choices(dirty, k=1)[0]\n",
        "    os.rename(\"/content/Dirt Buildup/\" + filename, \"/content/test/Dirt Buildup/\" + filename)\n",
        "    dirty.remove(filename)\n",
        "\n",
        "  os.rename(\"/content/Clean\", \"/content/train/Clean\")\n",
        "  os.rename(\"/content/Dirt Buildup\", \"/content/train/Dirt Buildup\")"
      ],
      "metadata": {
        "id": "juAtUaxLKtOu"
      },
      "execution_count": null,
      "outputs": []
    },
    {
      "cell_type": "code",
      "source": [
        "train = image_dataset_from_directory(\"train\")\n",
        "train.batch(32).prefetch(tf.data.AUTOTUNE)\n",
        "test = image_dataset_from_directory(\"test\")\n",
        "test.batch(32).prefetch(tf.data.AUTOTUNE)"
      ],
      "metadata": {
        "id": "g6WbTSK4QSlF",
        "colab": {
          "base_uri": "https://localhost:8080/"
        },
        "outputId": "1236518f-cad8-4911-e184-6ca6f3eea781"
      },
      "execution_count": null,
      "outputs": [
        {
          "output_type": "stream",
          "name": "stdout",
          "text": [
            "Found 1650 files belonging to 2 classes.\n",
            "Found 290 files belonging to 2 classes.\n"
          ]
        },
        {
          "output_type": "execute_result",
          "data": {
            "text/plain": [
              "<_PrefetchDataset element_spec=(TensorSpec(shape=(None, None, 256, 256, 3), dtype=tf.float32, name=None), TensorSpec(shape=(None, None), dtype=tf.int32, name=None))>"
            ]
          },
          "metadata": {},
          "execution_count": 6
        }
      ]
    },
    {
      "cell_type": "code",
      "source": [
        "effnetb0 = tf.keras.applications.efficientnet.EfficientNetB0(include_top=False)\n",
        "effnetb0.trainable = False\n",
        "for layer in effnetb0.layers[-10: ]:\n",
        "  layer.trainable = True"
      ],
      "metadata": {
        "colab": {
          "base_uri": "https://localhost:8080/"
        },
        "id": "rtjjNJiZnx22",
        "outputId": "9b89299b-10cf-4e1e-8632-fe882cd8e7a4"
      },
      "execution_count": null,
      "outputs": [
        {
          "output_type": "stream",
          "name": "stdout",
          "text": [
            "Downloading data from https://storage.googleapis.com/keras-applications/efficientnetb0_notop.h5\n",
            "16705208/16705208 [==============================] - 0s 0us/step\n"
          ]
        }
      ]
    },
    {
      "cell_type": "code",
      "source": [
        "model = Sequential([\n",
        "    layers.RandomRotation(0.08333,\n",
        "                          input_shape=(256, 256, 3),\n",
        "                          name=\"augmentation_layer\"),\n",
        "    effnetb0,\n",
        "    layers.GlobalAveragePooling2D(),\n",
        "    layers.Dense(1, activation=\"sigmoid\")\n",
        "], name=\"dirt_detector\")"
      ],
      "metadata": {
        "id": "zI8mrxLCpt2u"
      },
      "execution_count": null,
      "outputs": []
    },
    {
      "cell_type": "code",
      "source": [
        "model.summary()"
      ],
      "metadata": {
        "colab": {
          "base_uri": "https://localhost:8080/"
        },
        "id": "exy0ddp2p_oZ",
        "outputId": "d23f9707-7dc1-47bd-8b71-488688138f23"
      },
      "execution_count": null,
      "outputs": [
        {
          "output_type": "stream",
          "name": "stdout",
          "text": [
            "Model: \"dirt_detector\"\n",
            "_________________________________________________________________\n",
            " Layer (type)                Output Shape              Param #   \n",
            "=================================================================\n",
            " augmentation_layer (RandomR  (None, 256, 256, 3)      0         \n",
            " otation)                                                        \n",
            "                                                                 \n",
            " efficientnetb0 (Functional)  (None, None, None, 1280)  4049571  \n",
            "                                                                 \n",
            " global_average_pooling2d (G  (None, 1280)             0         \n",
            " lobalAveragePooling2D)                                          \n",
            "                                                                 \n",
            " dense (Dense)               (None, 1)                 1281      \n",
            "                                                                 \n",
            "=================================================================\n",
            "Total params: 4,050,852\n",
            "Trainable params: 1,281\n",
            "Non-trainable params: 4,049,571\n",
            "_________________________________________________________________\n"
          ]
        }
      ]
    },
    {
      "cell_type": "code",
      "source": [
        "early_stop = callbacks.EarlyStopping(monitor=\"val_accuracy\",\n",
        "                                     mode=\"max\",\n",
        "                                     patience=6)"
      ],
      "metadata": {
        "id": "b6wmyMl0raIl"
      },
      "execution_count": null,
      "outputs": []
    },
    {
      "cell_type": "code",
      "source": [
        "model.compile(loss=\"binary_crossentropy\",\n",
        "              optimizer=tf.keras.optimizers.Adam(),\n",
        "              metrics=[\"accuracy\",\n",
        "                       metrics.Precision(),\n",
        "                       metrics.Recall(),\n",
        "                       metrics.AUC()])"
      ],
      "metadata": {
        "id": "Uap60DvJqJaq"
      },
      "execution_count": null,
      "outputs": []
    },
    {
      "cell_type": "code",
      "source": [
        "model.fit(train,\n",
        "          validation_data=test,\n",
        "          epochs=20,\n",
        "          callbacks=[early_stop])"
      ],
      "metadata": {
        "colab": {
          "base_uri": "https://localhost:8080/"
        },
        "id": "FehgqpcSqXjI",
        "outputId": "7e3c4da2-a7e1-4930-faef-0e3665f46d56"
      },
      "execution_count": null,
      "outputs": [
        {
          "output_type": "stream",
          "name": "stdout",
          "text": [
            "Epoch 1/20\n",
            "52/52 [==============================] - 26s 164ms/step - loss: 0.4668 - accuracy: 0.8430 - precision: 0.8267 - recall: 0.7869 - auc: 0.9240 - val_loss: 0.3227 - val_accuracy: 0.8448 - val_precision: 0.9412 - val_recall: 0.6667 - val_auc: 0.9772\n",
            "Epoch 2/20\n",
            "52/52 [==============================] - 6s 111ms/step - loss: 0.2946 - accuracy: 0.9158 - precision: 0.9124 - recall: 0.8818 - auc: 0.9719 - val_loss: 0.2298 - val_accuracy: 0.9310 - val_precision: 0.9717 - val_recall: 0.8583 - val_auc: 0.9884\n",
            "Epoch 3/20\n",
            "52/52 [==============================] - 6s 104ms/step - loss: 0.2240 - accuracy: 0.9400 - precision: 0.9198 - recall: 0.9372 - auc: 0.9822 - val_loss: 0.1785 - val_accuracy: 0.9552 - val_precision: 0.9573 - val_recall: 0.9333 - val_auc: 0.9920\n",
            "Epoch 4/20\n",
            "52/52 [==============================] - 6s 109ms/step - loss: 0.1990 - accuracy: 0.9370 - precision: 0.9241 - recall: 0.9241 - auc: 0.9834 - val_loss: 0.1530 - val_accuracy: 0.9655 - val_precision: 0.9583 - val_recall: 0.9583 - val_auc: 0.9934\n",
            "Epoch 5/20\n",
            "52/52 [==============================] - 6s 103ms/step - loss: 0.1849 - accuracy: 0.9461 - precision: 0.9408 - recall: 0.9285 - auc: 0.9846 - val_loss: 0.1403 - val_accuracy: 0.9621 - val_precision: 0.9580 - val_recall: 0.9500 - val_auc: 0.9938\n",
            "Epoch 6/20\n",
            "52/52 [==============================] - 7s 137ms/step - loss: 0.1601 - accuracy: 0.9539 - precision: 0.9419 - recall: 0.9474 - auc: 0.9890 - val_loss: 0.1278 - val_accuracy: 0.9655 - val_precision: 0.9508 - val_recall: 0.9667 - val_auc: 0.9944\n",
            "Epoch 7/20\n",
            "52/52 [==============================] - 6s 104ms/step - loss: 0.1639 - accuracy: 0.9473 - precision: 0.9284 - recall: 0.9460 - auc: 0.9865 - val_loss: 0.1185 - val_accuracy: 0.9690 - val_precision: 0.9512 - val_recall: 0.9750 - val_auc: 0.9953\n",
            "Epoch 8/20\n",
            "52/52 [==============================] - 6s 111ms/step - loss: 0.1438 - accuracy: 0.9533 - precision: 0.9457 - recall: 0.9416 - auc: 0.9905 - val_loss: 0.1115 - val_accuracy: 0.9690 - val_precision: 0.9512 - val_recall: 0.9750 - val_auc: 0.9958\n",
            "Epoch 9/20\n",
            "52/52 [==============================] - 6s 105ms/step - loss: 0.1461 - accuracy: 0.9552 - precision: 0.9434 - recall: 0.9489 - auc: 0.9888 - val_loss: 0.1049 - val_accuracy: 0.9724 - val_precision: 0.9590 - val_recall: 0.9750 - val_auc: 0.9962\n",
            "Epoch 10/20\n",
            "52/52 [==============================] - 6s 113ms/step - loss: 0.1350 - accuracy: 0.9539 - precision: 0.9419 - recall: 0.9474 - auc: 0.9913 - val_loss: 0.0999 - val_accuracy: 0.9793 - val_precision: 0.9750 - val_recall: 0.9750 - val_auc: 0.9967\n",
            "Epoch 11/20\n",
            "52/52 [==============================] - 6s 104ms/step - loss: 0.1296 - accuracy: 0.9570 - precision: 0.9555 - recall: 0.9401 - auc: 0.9918 - val_loss: 0.0961 - val_accuracy: 0.9793 - val_precision: 0.9750 - val_recall: 0.9750 - val_auc: 0.9968\n",
            "Epoch 12/20\n",
            "52/52 [==============================] - 6s 111ms/step - loss: 0.1212 - accuracy: 0.9691 - precision: 0.9635 - recall: 0.9620 - auc: 0.9927 - val_loss: 0.0925 - val_accuracy: 0.9793 - val_precision: 0.9750 - val_recall: 0.9750 - val_auc: 0.9969\n",
            "Epoch 13/20\n",
            "52/52 [==============================] - 6s 107ms/step - loss: 0.1280 - accuracy: 0.9600 - precision: 0.9466 - recall: 0.9577 - auc: 0.9910 - val_loss: 0.0893 - val_accuracy: 0.9793 - val_precision: 0.9750 - val_recall: 0.9750 - val_auc: 0.9970\n",
            "Epoch 14/20\n",
            "52/52 [==============================] - 6s 103ms/step - loss: 0.1127 - accuracy: 0.9655 - precision: 0.9551 - recall: 0.9620 - auc: 0.9932 - val_loss: 0.0865 - val_accuracy: 0.9793 - val_precision: 0.9750 - val_recall: 0.9750 - val_auc: 0.9972\n",
            "Epoch 15/20\n",
            "52/52 [==============================] - 6s 110ms/step - loss: 0.1099 - accuracy: 0.9655 - precision: 0.9604 - recall: 0.9562 - auc: 0.9939 - val_loss: 0.0821 - val_accuracy: 0.9793 - val_precision: 0.9750 - val_recall: 0.9750 - val_auc: 0.9975\n",
            "Epoch 16/20\n",
            "52/52 [==============================] - 6s 104ms/step - loss: 0.1039 - accuracy: 0.9655 - precision: 0.9631 - recall: 0.9533 - auc: 0.9951 - val_loss: 0.0809 - val_accuracy: 0.9793 - val_precision: 0.9750 - val_recall: 0.9750 - val_auc: 0.9974\n"
          ]
        },
        {
          "output_type": "execute_result",
          "data": {
            "text/plain": [
              "<keras.callbacks.History at 0x7a2e5555dd50>"
            ]
          },
          "metadata": {},
          "execution_count": 12
        }
      ]
    },
    {
      "cell_type": "code",
      "source": [
        "model.evaluate(test)"
      ],
      "metadata": {
        "colab": {
          "base_uri": "https://localhost:8080/"
        },
        "id": "GJwbKybRqe2i",
        "outputId": "1a73715a-74f7-43d7-df65-c8e22cfdca00"
      },
      "execution_count": null,
      "outputs": [
        {
          "output_type": "stream",
          "name": "stdout",
          "text": [
            "10/10 [==============================] - 1s 73ms/step - loss: 0.0809 - accuracy: 0.9793 - precision: 0.9750 - recall: 0.9750 - auc: 0.9974\n"
          ]
        },
        {
          "output_type": "execute_result",
          "data": {
            "text/plain": [
              "[0.08090156316757202,\n",
              " 0.9793103337287903,\n",
              " 0.9750000238418579,\n",
              " 0.9750000238418579,\n",
              " 0.9973773956298828]"
            ]
          },
          "metadata": {},
          "execution_count": 13
        }
      ]
    },
    {
      "cell_type": "code",
      "source": [
        "image = tf.keras.utils.load_img(\"/content/test/Clean/03-0.JPG\")\n",
        "image_arr = tf.keras.utils.img_to_array(image)\n",
        "image_arr = tf.image.resize(image_arr, size=[256, 256])\n",
        "image_arr = np.reshape(image_arr, (1, 256, 256, 3))\n",
        "model.predict([image_arr])[0, 0]"
      ],
      "metadata": {
        "colab": {
          "base_uri": "https://localhost:8080/"
        },
        "id": "noWgAYoZwB_B",
        "outputId": "54b3a718-a908-444f-ad2e-185c652c6434"
      },
      "execution_count": null,
      "outputs": [
        {
          "output_type": "stream",
          "name": "stdout",
          "text": [
            "1/1 [==============================] - 2s 2s/step\n"
          ]
        },
        {
          "output_type": "execute_result",
          "data": {
            "text/plain": [
              "0.30761057"
            ]
          },
          "metadata": {},
          "execution_count": 15
        }
      ]
    }
  ]
}